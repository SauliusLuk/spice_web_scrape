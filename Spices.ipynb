{
 "cells": [
  {
   "cell_type": "code",
   "execution_count": 1,
   "id": "f9fa32f1-6a6c-46c3-9b2c-a0e7af33ebe2",
   "metadata": {},
   "outputs": [],
   "source": [
    "import pandas as pd"
   ]
  },
  {
   "cell_type": "code",
   "execution_count": 2,
   "id": "12d802f5-93cc-4241-a079-bcf4c38dd618",
   "metadata": {},
   "outputs": [],
   "source": [
    "df = pd.read_csv('merged_csv.csv')"
   ]
  },
  {
   "cell_type": "code",
   "execution_count": null,
   "id": "b57a2e7f-f64c-47a2-a8e9-d0a7896217b9",
   "metadata": {},
   "outputs": [],
   "source": [
    "df.head(15)"
   ]
  },
  {
   "cell_type": "markdown",
   "id": "83848d64-e1c2-497f-91fc-25d906ab7174",
   "metadata": {},
   "source": [
    "## Data cleanup"
   ]
  },
  {
   "cell_type": "markdown",
   "id": "8b15d331-d413-46ca-b75e-d801594ba38f",
   "metadata": {
    "tags": []
   },
   "source": [
    "## Find and drop rows\n",
    "### Find/replace"
   ]
  },
  {
   "cell_type": "code",
   "execution_count": 4,
   "id": "4a5f13b1-3243-40cc-8481-8b1a29e85caa",
   "metadata": {},
   "outputs": [],
   "source": [
    "df['Produktas'] = df['Produktas'].str.replace(r\"[()„“]\",\"\", regex=True)"
   ]
  },
  {
   "cell_type": "code",
   "execution_count": 5,
   "id": "1eefc911-9658-4acd-8dad-c0c817f466b5",
   "metadata": {},
   "outputs": [],
   "source": [
    "df['Kaina'] = df['Kaina'].str.replace(r\"€  su PVM\",\"\", regex=True)"
   ]
  },
  {
   "cell_type": "code",
   "execution_count": 6,
   "id": "51ce2834-e381-4253-acc8-4d47e9d4f8be",
   "metadata": {},
   "outputs": [
    {
     "name": "stderr",
     "output_type": "stream",
     "text": [
      "C:\\Users\\User\\AppData\\Local\\Temp\\ipykernel_10992\\4167584506.py:1: FutureWarning: The default value of regex will change from True to False in a future version.\n",
      "  df['Svoris'] = df['Svoris'].str.replace('(rūdeliais)','')\n"
     ]
    }
   ],
   "source": [
    "df['Svoris'] = df['Svoris'].str.replace('(rūdeliais)','')\n",
    "# ateityje sita keisti su regex, nes palieka skliautelius"
   ]
  },
  {
   "cell_type": "code",
   "execution_count": 7,
   "id": "25fbb372-d9e6-4790-a581-590c4cbd52bc",
   "metadata": {},
   "outputs": [],
   "source": [
    "df['Svoris'] = df['Svoris'].str.replace(r\"[()]\",\"\", regex=True)"
   ]
  },
  {
   "cell_type": "code",
   "execution_count": 8,
   "id": "e7a33ca5-b510-405e-a4e8-1df27eaf479d",
   "metadata": {},
   "outputs": [],
   "source": [
    "df['Svoris'] = df['Svoris'].str.replace(r\",\", \".\", regex=True)"
   ]
  },
  {
   "cell_type": "markdown",
   "id": "2c58e959-3158-403b-b58d-1ba995d6dc44",
   "metadata": {},
   "source": [
    "### Find a full string"
   ]
  },
  {
   "cell_type": "code",
   "execution_count": 9,
   "id": "5cda3b5a-7202-49d9-a58c-bdb7dbc6daaf",
   "metadata": {},
   "outputs": [
    {
     "data": {
      "text/html": [
       "<div>\n",
       "<style scoped>\n",
       "    .dataframe tbody tr th:only-of-type {\n",
       "        vertical-align: middle;\n",
       "    }\n",
       "\n",
       "    .dataframe tbody tr th {\n",
       "        vertical-align: top;\n",
       "    }\n",
       "\n",
       "    .dataframe thead th {\n",
       "        text-align: right;\n",
       "    }\n",
       "</style>\n",
       "<table border=\"1\" class=\"dataframe\">\n",
       "  <thead>\n",
       "    <tr style=\"text-align: right;\">\n",
       "      <th></th>\n",
       "      <th>Pardavėjas</th>\n",
       "      <th>Produktas</th>\n",
       "      <th>Svoris</th>\n",
       "      <th>Kaina</th>\n",
       "    </tr>\n",
       "  </thead>\n",
       "  <tbody>\n",
       "    <tr>\n",
       "      <th>64</th>\n",
       "      <td>Delona</td>\n",
       "      <td>Viso kiaušinio milteliai</td>\n",
       "      <td>milteliai</td>\n",
       "      <td>Nuo2.00</td>\n",
       "    </tr>\n",
       "  </tbody>\n",
       "</table>\n",
       "</div>"
      ],
      "text/plain": [
       "   Pardavėjas                 Produktas     Svoris    Kaina\n",
       "64     Delona  Viso kiaušinio milteliai  milteliai  Nuo2.00"
      ]
     },
     "execution_count": 9,
     "metadata": {},
     "output_type": "execute_result"
    }
   ],
   "source": [
    "df.query(\"Produktas == 'Viso kiaušinio milteliai'\")"
   ]
  },
  {
   "cell_type": "code",
   "execution_count": 10,
   "id": "ef0e4954-f457-40eb-a400-406149213b9d",
   "metadata": {},
   "outputs": [
    {
     "data": {
      "text/html": [
       "<div>\n",
       "<style scoped>\n",
       "    .dataframe tbody tr th:only-of-type {\n",
       "        vertical-align: middle;\n",
       "    }\n",
       "\n",
       "    .dataframe tbody tr th {\n",
       "        vertical-align: top;\n",
       "    }\n",
       "\n",
       "    .dataframe thead th {\n",
       "        text-align: right;\n",
       "    }\n",
       "</style>\n",
       "<table border=\"1\" class=\"dataframe\">\n",
       "  <thead>\n",
       "    <tr style=\"text-align: right;\">\n",
       "      <th></th>\n",
       "      <th>Pardavėjas</th>\n",
       "      <th>Produktas</th>\n",
       "      <th>Svoris</th>\n",
       "      <th>Kaina</th>\n",
       "    </tr>\n",
       "  </thead>\n",
       "  <tbody>\n",
       "    <tr>\n",
       "      <th>64</th>\n",
       "      <td>Delona</td>\n",
       "      <td>Viso kiaušinio milteliai</td>\n",
       "      <td>milteliai</td>\n",
       "      <td>Nuo2.00</td>\n",
       "    </tr>\n",
       "  </tbody>\n",
       "</table>\n",
       "</div>"
      ],
      "text/plain": [
       "   Pardavėjas                 Produktas     Svoris    Kaina\n",
       "64     Delona  Viso kiaušinio milteliai  milteliai  Nuo2.00"
      ]
     },
     "metadata": {},
     "output_type": "display_data"
    }
   ],
   "source": [
    "milteliai = df[df['Produktas'].isin(['Viso kiaušinio milteliai'])]\n",
    "display(milteliai)"
   ]
  },
  {
   "cell_type": "code",
   "execution_count": 11,
   "id": "d580f0e7-b280-4ee6-95e9-6b307e04a46d",
   "metadata": {},
   "outputs": [],
   "source": [
    "milteliai = df['Produktas'].isin(['Viso kiaušinio milteliai'])\n",
    "df = df.drop(df[milteliai].index)"
   ]
  },
  {
   "cell_type": "code",
   "execution_count": 12,
   "id": "fec80577-99cb-4387-a67f-b3bb317a129d",
   "metadata": {},
   "outputs": [
    {
     "data": {
      "text/html": [
       "<div>\n",
       "<style scoped>\n",
       "    .dataframe tbody tr th:only-of-type {\n",
       "        vertical-align: middle;\n",
       "    }\n",
       "\n",
       "    .dataframe tbody tr th {\n",
       "        vertical-align: top;\n",
       "    }\n",
       "\n",
       "    .dataframe thead th {\n",
       "        text-align: right;\n",
       "    }\n",
       "</style>\n",
       "<table border=\"1\" class=\"dataframe\">\n",
       "  <thead>\n",
       "    <tr style=\"text-align: right;\">\n",
       "      <th></th>\n",
       "      <th>Pardavėjas</th>\n",
       "      <th>Produktas</th>\n",
       "      <th>Svoris</th>\n",
       "      <th>Kaina</th>\n",
       "    </tr>\n",
       "  </thead>\n",
       "  <tbody>\n",
       "  </tbody>\n",
       "</table>\n",
       "</div>"
      ],
      "text/plain": [
       "Empty DataFrame\n",
       "Columns: [Pardavėjas, Produktas, Svoris, Kaina]\n",
       "Index: []"
      ]
     },
     "execution_count": 12,
     "metadata": {},
     "output_type": "execute_result"
    }
   ],
   "source": [
    "df.query(\"Produktas == 'Viso kiaušinio milteliai'\")"
   ]
  },
  {
   "cell_type": "markdown",
   "id": "4ec026bd-d27e-49fc-b277-326c035cf419",
   "metadata": {},
   "source": [
    "### Find a partial string"
   ]
  },
  {
   "cell_type": "code",
   "execution_count": 13,
   "id": "d8aa335a-db1c-4873-bf0e-84a5c2f8abdb",
   "metadata": {
    "tags": []
   },
   "outputs": [
    {
     "data": {
      "text/html": [
       "<div>\n",
       "<style scoped>\n",
       "    .dataframe tbody tr th:only-of-type {\n",
       "        vertical-align: middle;\n",
       "    }\n",
       "\n",
       "    .dataframe tbody tr th {\n",
       "        vertical-align: top;\n",
       "    }\n",
       "\n",
       "    .dataframe thead th {\n",
       "        text-align: right;\n",
       "    }\n",
       "</style>\n",
       "<table border=\"1\" class=\"dataframe\">\n",
       "  <thead>\n",
       "    <tr style=\"text-align: right;\">\n",
       "      <th></th>\n",
       "      <th>Pardavėjas</th>\n",
       "      <th>Produktas</th>\n",
       "      <th>Svoris</th>\n",
       "      <th>Kaina</th>\n",
       "    </tr>\n",
       "  </thead>\n",
       "  <tbody>\n",
       "    <tr>\n",
       "      <th>65</th>\n",
       "      <td>Delona</td>\n",
       "      <td>Kava \"ETHIOPIA SIDAMO\"</td>\n",
       "      <td>NaN</td>\n",
       "      <td>Nuo2.60</td>\n",
       "    </tr>\n",
       "    <tr>\n",
       "      <th>86</th>\n",
       "      <td>Delona</td>\n",
       "      <td>Ceilono cinamonas lazdelės</td>\n",
       "      <td>lazdelės</td>\n",
       "      <td>Nuo1.80</td>\n",
       "    </tr>\n",
       "    <tr>\n",
       "      <th>87</th>\n",
       "      <td>Delona</td>\n",
       "      <td>Ceilono cinamonas maltas</td>\n",
       "      <td>maltas</td>\n",
       "      <td>Nuo2.90</td>\n",
       "    </tr>\n",
       "    <tr>\n",
       "      <th>92</th>\n",
       "      <td>Delona</td>\n",
       "      <td>Ciberžolė</td>\n",
       "      <td>Ciberžolė</td>\n",
       "      <td>Nuo1.50</td>\n",
       "    </tr>\n",
       "    <tr>\n",
       "      <th>241</th>\n",
       "      <td>Delona</td>\n",
       "      <td>Linų sėmenys</td>\n",
       "      <td>sėmenys</td>\n",
       "      <td>Nuo0.90</td>\n",
       "    </tr>\n",
       "    <tr>\n",
       "      <th>250</th>\n",
       "      <td>Delona</td>\n",
       "      <td>Juodųjų sezamų sėklos</td>\n",
       "      <td>sėklos</td>\n",
       "      <td>Nuo1.20</td>\n",
       "    </tr>\n",
       "  </tbody>\n",
       "</table>\n",
       "</div>"
      ],
      "text/plain": [
       "    Pardavėjas                   Produktas     Svoris    Kaina\n",
       "65      Delona     Kava \"ETHIOPIA SIDAMO\"         NaN  Nuo2.60\n",
       "86      Delona  Ceilono cinamonas lazdelės   lazdelės  Nuo1.80\n",
       "87      Delona    Ceilono cinamonas maltas     maltas  Nuo2.90\n",
       "92      Delona                   Ciberžolė  Ciberžolė  Nuo1.50\n",
       "241     Delona                Linų sėmenys    sėmenys  Nuo0.90\n",
       "250     Delona       Juodųjų sezamų sėklos     sėklos  Nuo1.20"
      ]
     },
     "execution_count": 13,
     "metadata": {},
     "output_type": "execute_result"
    }
   ],
   "source": [
    "df[df['Kaina'].str.contains('Nuo')]"
   ]
  },
  {
   "cell_type": "code",
   "execution_count": 52,
   "id": "4301de2b-c36f-46b3-a494-cda142fbd44d",
   "metadata": {},
   "outputs": [],
   "source": [
    "df = df.drop([65,241,228,229,360,415,417,439], errors='ignore')"
   ]
  },
  {
   "cell_type": "code",
   "execution_count": null,
   "id": "77d13291-a831-4f53-85de-15bbc5a2193b",
   "metadata": {},
   "outputs": [],
   "source": [
    "df[df['Kaina'].str.contains('Nuo')]"
   ]
  },
  {
   "cell_type": "markdown",
   "id": "f3209564-b93f-41d5-b8fe-1645888dd981",
   "metadata": {},
   "source": [
    "### Replace cell values"
   ]
  },
  {
   "cell_type": "code",
   "execution_count": 16,
   "id": "b135f232-71bb-4227-b16f-a57f786e0c00",
   "metadata": {},
   "outputs": [],
   "source": [
    "df.loc[86] = ['Delona', 'Ceilono cinamonas lazdelės', 100, 5.4]"
   ]
  },
  {
   "cell_type": "code",
   "execution_count": 17,
   "id": "85c28a87-74d8-49d7-bf1b-90b21457e84e",
   "metadata": {},
   "outputs": [],
   "source": [
    "df.loc[87] = ['Delona', 'Ceilono cinamonas maltas', 1000, 24]"
   ]
  },
  {
   "cell_type": "code",
   "execution_count": 18,
   "id": "b2c94be6-c8bb-4bf8-97ca-7ba5781fec76",
   "metadata": {},
   "outputs": [],
   "source": [
    "df.loc[92] = ['Delona', 'Ciberžolė', 100, 1.5]\n",
    "df.loc[250] = ['Delona', 'Juodųjų sezamų sėklos', 100, 1.2]"
   ]
  },
  {
   "cell_type": "code",
   "execution_count": null,
   "id": "12951b90-247d-472a-9a60-569a12208320",
   "metadata": {},
   "outputs": [],
   "source": [
    "df[df['Kaina'].isnull()]"
   ]
  },
  {
   "cell_type": "code",
   "execution_count": null,
   "id": "e0dfca76-2a47-483a-9be4-ea39ac794b9a",
   "metadata": {},
   "outputs": [],
   "source": [
    "df[df['Svoris'].isnull()]"
   ]
  },
  {
   "cell_type": "markdown",
   "id": "e247dc3e-3392-4ddc-878b-1492cb0dbc95",
   "metadata": {},
   "source": [
    "### Convert columns to float"
   ]
  },
  {
   "cell_type": "code",
   "execution_count": 22,
   "id": "af13c1f3-b845-4e3b-90f5-2311a8ec6028",
   "metadata": {},
   "outputs": [],
   "source": [
    "df['Kaina'] = df['Kaina'].astype(float)"
   ]
  },
  {
   "cell_type": "code",
   "execution_count": 30,
   "id": "9053b1e5-f471-4638-a6ef-56854b78059a",
   "metadata": {},
   "outputs": [],
   "source": [
    "df['Svoris'] = df['Svoris'].astype(float)"
   ]
  },
  {
   "cell_type": "markdown",
   "id": "9107410e-e34c-4bfa-8625-4ad464245ccd",
   "metadata": {},
   "source": [
    "### Calculate price/kg"
   ]
  },
  {
   "cell_type": "code",
   "execution_count": 32,
   "id": "647e8cd4-8cfb-401c-aa6c-1f486218ff6a",
   "metadata": {},
   "outputs": [],
   "source": [
    "df['Kaina_kg'] = df['Kaina'] / df['Svoris'] *1000"
   ]
  },
  {
   "cell_type": "markdown",
   "id": "9bde9fa7-dbfc-436e-9044-65ce7fc7adb6",
   "metadata": {},
   "source": [
    "### Find/replace substrings - product names"
   ]
  },
  {
   "cell_type": "code",
   "execution_count": null,
   "id": "817788a4-9b1c-4c83-8b04-92252d8f8bf6",
   "metadata": {},
   "outputs": [],
   "source": [
    "df.loc[df['Produktas'].str.contains(\"rūkyt\", case=False)]"
   ]
  },
  {
   "cell_type": "code",
   "execution_count": 97,
   "id": "ca7fcfa7-8bf9-4027-ab1b-99777aba624d",
   "metadata": {},
   "outputs": [],
   "source": [
    "df['Produktas'] = df['Produktas'].replace(dict.fromkeys(['Saldžiosios raudonosios paprikos maltos', 'Saldžios raudonos paprikos 40g maltos','Raudona saldi paprika', 'Saldžioji raudonoji paprika', 'Saldžios raudonos paprikos maltos, ASTA150 1kg', 'Saldžioji paprika malta'], 'Raudonos saldžios paprikos (maltos)'))"
   ]
  },
  {
   "cell_type": "code",
   "execution_count": null,
   "id": "76d7ab1c-2bdd-4463-bbe0-8ed8d22d09a7",
   "metadata": {
    "jupyter": {
     "source_hidden": true
    },
    "tags": []
   },
   "outputs": [],
   "source": [
    "df.loc[df['Produktas'].str.contains(\"Raudonos saldžios paprikos\", case=False)]"
   ]
  },
  {
   "cell_type": "code",
   "execution_count": 74,
   "id": "fc1fa9c7-60c0-4c1e-beba-3d86991d78bc",
   "metadata": {},
   "outputs": [],
   "source": [
    "df['Produktas'] = df['Produktas'].replace(dict.fromkeys(['Rūkytos  raudonos saldžiosios paprikos', 'Rūkyta paprika', 'Rūkyta saldi raudona paprika 100g', 'Rūkytos raudonos saldžiosios paprikos', 'Saldžios raudonos paprikos rūkytos 60g', 'Rūkyta paprika saldi'], 'Raudonos saldžios paprikos (rūkytos)'))"
   ]
  },
  {
   "cell_type": "code",
   "execution_count": null,
   "id": "9c1339d0-2e57-4f50-af99-108a897a85cb",
   "metadata": {
    "jupyter": {
     "source_hidden": true
    },
    "tags": []
   },
   "outputs": [],
   "source": [
    "df.loc[df['Produktas'].str.contains(\"rūkyt\", case=False)]"
   ]
  },
  {
   "cell_type": "code",
   "execution_count": null,
   "id": "ed47cd5a-ba8e-420f-b36a-681996320c58",
   "metadata": {
    "jupyter": {
     "source_hidden": true
    },
    "tags": []
   },
   "outputs": [],
   "source": [
    "df.loc[df['Produktas'].str.contains(\"aštr\", case=False)]"
   ]
  },
  {
   "cell_type": "code",
   "execution_count": 78,
   "id": "8fd9cbf6-06fe-47da-82a5-d971454e6707",
   "metadata": {},
   "outputs": [],
   "source": [
    "df['Produktas'] = df['Produktas'].replace(dict.fromkeys(['Maltos aitriosios paprikos čili pipirai 100g', 'Aitrioji paprika', 'Aštrios raudonos paprikos 40g'], 'Aitriosios čili paprikos (maltos)'))"
   ]
  },
  {
   "cell_type": "code",
   "execution_count": null,
   "id": "099018f6-fb2b-4eb3-bbd5-a16add7981a8",
   "metadata": {
    "jupyter": {
     "source_hidden": true
    },
    "tags": []
   },
   "outputs": [],
   "source": [
    "df.loc[df['Produktas'].str.contains(\"dribs\", case=False)]"
   ]
  },
  {
   "cell_type": "code",
   "execution_count": 87,
   "id": "7326230e-d6e8-43d4-b132-c26f8d5cf8a4",
   "metadata": {},
   "outputs": [],
   "source": [
    "df['Produktas'] = df['Produktas'].replace(dict.fromkeys(['Aitriosios paprikos čili dribsniai 80g', 'Aitrioji paprika džiovinta'], 'Aitriosios čili paprikos (smulkintos)'))"
   ]
  },
  {
   "cell_type": "code",
   "execution_count": 105,
   "id": "2b080666-e92f-466d-aecd-5ceb71f3159b",
   "metadata": {},
   "outputs": [],
   "source": [
    "df['Produktas'] = df['Produktas'].replace(dict.fromkeys(['Rūkytos aitriosios paprikos čili 100g'], 'Dūmų skonio aitriosios čili paprikos'))"
   ]
  },
  {
   "cell_type": "code",
   "execution_count": 114,
   "id": "aa18b851-45a8-495c-ac9a-a3cbc38feefe",
   "metadata": {
    "jupyter": {
     "source_hidden": true
    },
    "tags": []
   },
   "outputs": [],
   "source": [
    " df.loc[214, 'Produktas'] = 'Dūmų skonio aitriosios čili paprikos'"
   ]
  },
  {
   "cell_type": "code",
   "execution_count": 116,
   "id": "b4db62af-1b94-4306-b5d9-d12e2fad5c6d",
   "metadata": {},
   "outputs": [],
   "source": [
    "df['Produktas'] = df['Produktas'].replace(dict.fromkeys(['Saldžiosios raudonosios paprikos dribsniai 100 g', 'Saldžios raudonos paprikos smulkintos 10x10 1kg'], 'Raudonos saldžios paprikos (smulkintos)'))"
   ]
  },
  {
   "cell_type": "code",
   "execution_count": null,
   "id": "8f01c5e9-09ed-4d90-95c8-163c94dd57bb",
   "metadata": {
    "jupyter": {
     "source_hidden": true
    },
    "tags": []
   },
   "outputs": [],
   "source": [
    "df.loc[df['Produktas'].str.contains('paprik', case=False)]"
   ]
  },
  {
   "cell_type": "code",
   "execution_count": 128,
   "id": "4252f6cd-9fa7-44f6-bf3e-2b4218ab8f73",
   "metadata": {},
   "outputs": [],
   "source": [
    "df = df.loc[df['Produktas'].str.contains('Raudonos saldžios paprikos|Aitriosios čili paprikos' , case=False)]"
   ]
  },
  {
   "cell_type": "markdown",
   "id": "2e03ec86-9701-4713-9eff-3230f789b873",
   "metadata": {},
   "source": [
    "### Display select columns"
   ]
  },
  {
   "cell_type": "code",
   "execution_count": 172,
   "id": "109ae4ca-0b3d-4dd2-b64b-df94a25ac963",
   "metadata": {},
   "outputs": [],
   "source": [
    "cols = ['Pardavėjas', 'Produktas', 'Kaina_kg']"
   ]
  },
  {
   "cell_type": "code",
   "execution_count": null,
   "id": "f7039ec8-1e7f-481e-ad77-79ecead22ba6",
   "metadata": {},
   "outputs": [],
   "source": [
    "df[cols]"
   ]
  },
  {
   "cell_type": "code",
   "execution_count": 174,
   "id": "93306633-e74a-4f74-a44f-3bf8d38b2d11",
   "metadata": {},
   "outputs": [],
   "source": [
    "df_new = df[cols].sort_values(by='Produktas')"
   ]
  },
  {
   "cell_type": "markdown",
   "id": "3eabc4a0-9a9e-44b7-9a09-5ce70eb9de56",
   "metadata": {},
   "source": [
    "### Create a pivot table"
   ]
  },
  {
   "cell_type": "code",
   "execution_count": 175,
   "id": "2c48d0f4-0ba7-4dd5-913a-fefbeec4f87e",
   "metadata": {},
   "outputs": [
    {
     "data": {
      "text/html": [
       "<div>\n",
       "<style scoped>\n",
       "    .dataframe tbody tr th:only-of-type {\n",
       "        vertical-align: middle;\n",
       "    }\n",
       "\n",
       "    .dataframe tbody tr th {\n",
       "        vertical-align: top;\n",
       "    }\n",
       "\n",
       "    .dataframe thead th {\n",
       "        text-align: right;\n",
       "    }\n",
       "</style>\n",
       "<table border=\"1\" class=\"dataframe\">\n",
       "  <thead>\n",
       "    <tr style=\"text-align: right;\">\n",
       "      <th>Pardavėjas</th>\n",
       "      <th>Chaichai</th>\n",
       "      <th>Delona</th>\n",
       "      <th>Prieskonių namai</th>\n",
       "      <th>Sauda</th>\n",
       "      <th>Spaisvilė</th>\n",
       "    </tr>\n",
       "    <tr>\n",
       "      <th>Produktas</th>\n",
       "      <th></th>\n",
       "      <th></th>\n",
       "      <th></th>\n",
       "      <th></th>\n",
       "      <th></th>\n",
       "    </tr>\n",
       "  </thead>\n",
       "  <tbody>\n",
       "    <tr>\n",
       "      <th>Aitriosios čili paprikos (maltos)</th>\n",
       "      <td>NaN</td>\n",
       "      <td>9.00</td>\n",
       "      <td>NaN</td>\n",
       "      <td>12.00</td>\n",
       "      <td>8.50</td>\n",
       "    </tr>\n",
       "    <tr>\n",
       "      <th>Aitriosios čili paprikos (smulkintos)</th>\n",
       "      <td>NaN</td>\n",
       "      <td>16.25</td>\n",
       "      <td>NaN</td>\n",
       "      <td>NaN</td>\n",
       "      <td>10.00</td>\n",
       "    </tr>\n",
       "    <tr>\n",
       "      <th>Dūmų skonio aitriosios čili paprikos</th>\n",
       "      <td>NaN</td>\n",
       "      <td>20.00</td>\n",
       "      <td>NaN</td>\n",
       "      <td>NaN</td>\n",
       "      <td>NaN</td>\n",
       "    </tr>\n",
       "    <tr>\n",
       "      <th>Raudonos saldžios paprikos (maltos)</th>\n",
       "      <td>50.00</td>\n",
       "      <td>NaN</td>\n",
       "      <td>NaN</td>\n",
       "      <td>17.51</td>\n",
       "      <td>43.40</td>\n",
       "    </tr>\n",
       "    <tr>\n",
       "      <th>Raudonos saldžios paprikos (rūkytos)</th>\n",
       "      <td>50.00</td>\n",
       "      <td>15.00</td>\n",
       "      <td>40.00</td>\n",
       "      <td>19.83</td>\n",
       "      <td>41.50</td>\n",
       "    </tr>\n",
       "    <tr>\n",
       "      <th>Raudonos saldžios paprikos (smulkintos)</th>\n",
       "      <td>NaN</td>\n",
       "      <td>16.00</td>\n",
       "      <td>NaN</td>\n",
       "      <td>9.72</td>\n",
       "      <td>NaN</td>\n",
       "    </tr>\n",
       "  </tbody>\n",
       "</table>\n",
       "</div>"
      ],
      "text/plain": [
       "Pardavėjas                               Chaichai  Delona  Prieskonių namai  \\\n",
       "Produktas                                                                     \n",
       "Aitriosios čili paprikos (maltos)             NaN    9.00               NaN   \n",
       "Aitriosios čili paprikos (smulkintos)         NaN   16.25               NaN   \n",
       "Dūmų skonio aitriosios čili paprikos          NaN   20.00               NaN   \n",
       "Raudonos saldžios paprikos (maltos)         50.00     NaN               NaN   \n",
       "Raudonos saldžios paprikos (rūkytos)        50.00   15.00             40.00   \n",
       "Raudonos saldžios paprikos (smulkintos)       NaN   16.00               NaN   \n",
       "\n",
       "Pardavėjas                               Sauda  Spaisvilė  \n",
       "Produktas                                                  \n",
       "Aitriosios čili paprikos (maltos)        12.00       8.50  \n",
       "Aitriosios čili paprikos (smulkintos)      NaN      10.00  \n",
       "Dūmų skonio aitriosios čili paprikos       NaN        NaN  \n",
       "Raudonos saldžios paprikos (maltos)      17.51      43.40  \n",
       "Raudonos saldžios paprikos (rūkytos)     19.83      41.50  \n",
       "Raudonos saldžios paprikos (smulkintos)   9.72        NaN  "
      ]
     },
     "execution_count": 175,
     "metadata": {},
     "output_type": "execute_result"
    }
   ],
   "source": [
    "df_new.pivot_table(index='Produktas', columns='Pardavėjas', values='Kaina_kg', aggfunc='sum')"
   ]
  },
  {
   "cell_type": "markdown",
   "id": "bb46a232-64bb-454b-8688-fc9a628bfa99",
   "metadata": {},
   "source": [
    "### Display float 2 decimals"
   ]
  },
  {
   "cell_type": "code",
   "execution_count": 176,
   "id": "17b37165-231d-4eab-8c80-d93c537d95fc",
   "metadata": {},
   "outputs": [],
   "source": [
    "pd.options.display.float_format = \"{:,.2f}\".format"
   ]
  },
  {
   "cell_type": "code",
   "execution_count": 177,
   "id": "0714135c-c4cd-48af-b78f-a07380337b25",
   "metadata": {},
   "outputs": [
    {
     "data": {
      "text/html": [
       "<div>\n",
       "<style scoped>\n",
       "    .dataframe tbody tr th:only-of-type {\n",
       "        vertical-align: middle;\n",
       "    }\n",
       "\n",
       "    .dataframe tbody tr th {\n",
       "        vertical-align: top;\n",
       "    }\n",
       "\n",
       "    .dataframe thead th {\n",
       "        text-align: right;\n",
       "    }\n",
       "</style>\n",
       "<table border=\"1\" class=\"dataframe\">\n",
       "  <thead>\n",
       "    <tr style=\"text-align: right;\">\n",
       "      <th>Pardavėjas</th>\n",
       "      <th>Chaichai</th>\n",
       "      <th>Delona</th>\n",
       "      <th>Prieskonių namai</th>\n",
       "      <th>Sauda</th>\n",
       "      <th>Spaisvilė</th>\n",
       "    </tr>\n",
       "    <tr>\n",
       "      <th>Produktas</th>\n",
       "      <th></th>\n",
       "      <th></th>\n",
       "      <th></th>\n",
       "      <th></th>\n",
       "      <th></th>\n",
       "    </tr>\n",
       "  </thead>\n",
       "  <tbody>\n",
       "    <tr>\n",
       "      <th>Aitriosios čili paprikos (maltos)</th>\n",
       "      <td>NaN</td>\n",
       "      <td>9.00</td>\n",
       "      <td>NaN</td>\n",
       "      <td>12.00</td>\n",
       "      <td>8.50</td>\n",
       "    </tr>\n",
       "    <tr>\n",
       "      <th>Aitriosios čili paprikos (smulkintos)</th>\n",
       "      <td>NaN</td>\n",
       "      <td>16.25</td>\n",
       "      <td>NaN</td>\n",
       "      <td>NaN</td>\n",
       "      <td>10.00</td>\n",
       "    </tr>\n",
       "    <tr>\n",
       "      <th>Dūmų skonio aitriosios čili paprikos</th>\n",
       "      <td>NaN</td>\n",
       "      <td>20.00</td>\n",
       "      <td>NaN</td>\n",
       "      <td>NaN</td>\n",
       "      <td>NaN</td>\n",
       "    </tr>\n",
       "    <tr>\n",
       "      <th>Raudonos saldžios paprikos (maltos)</th>\n",
       "      <td>50.00</td>\n",
       "      <td>NaN</td>\n",
       "      <td>NaN</td>\n",
       "      <td>17.51</td>\n",
       "      <td>43.40</td>\n",
       "    </tr>\n",
       "    <tr>\n",
       "      <th>Raudonos saldžios paprikos (rūkytos)</th>\n",
       "      <td>50.00</td>\n",
       "      <td>15.00</td>\n",
       "      <td>40.00</td>\n",
       "      <td>19.83</td>\n",
       "      <td>41.50</td>\n",
       "    </tr>\n",
       "    <tr>\n",
       "      <th>Raudonos saldžios paprikos (smulkintos)</th>\n",
       "      <td>NaN</td>\n",
       "      <td>16.00</td>\n",
       "      <td>NaN</td>\n",
       "      <td>9.72</td>\n",
       "      <td>NaN</td>\n",
       "    </tr>\n",
       "  </tbody>\n",
       "</table>\n",
       "</div>"
      ],
      "text/plain": [
       "Pardavėjas                               Chaichai  Delona  Prieskonių namai  \\\n",
       "Produktas                                                                     \n",
       "Aitriosios čili paprikos (maltos)             NaN    9.00               NaN   \n",
       "Aitriosios čili paprikos (smulkintos)         NaN   16.25               NaN   \n",
       "Dūmų skonio aitriosios čili paprikos          NaN   20.00               NaN   \n",
       "Raudonos saldžios paprikos (maltos)         50.00     NaN               NaN   \n",
       "Raudonos saldžios paprikos (rūkytos)        50.00   15.00             40.00   \n",
       "Raudonos saldžios paprikos (smulkintos)       NaN   16.00               NaN   \n",
       "\n",
       "Pardavėjas                               Sauda  Spaisvilė  \n",
       "Produktas                                                  \n",
       "Aitriosios čili paprikos (maltos)        12.00       8.50  \n",
       "Aitriosios čili paprikos (smulkintos)      NaN      10.00  \n",
       "Dūmų skonio aitriosios čili paprikos       NaN        NaN  \n",
       "Raudonos saldžios paprikos (maltos)      17.51      43.40  \n",
       "Raudonos saldžios paprikos (rūkytos)     19.83      41.50  \n",
       "Raudonos saldžios paprikos (smulkintos)   9.72        NaN  "
      ]
     },
     "execution_count": 177,
     "metadata": {},
     "output_type": "execute_result"
    }
   ],
   "source": [
    "df_new.pivot_table(index='Produktas', columns='Pardavėjas', values='Kaina_kg', aggfunc='sum')"
   ]
  },
  {
   "cell_type": "markdown",
   "id": "bf6b7bf9-d684-4fa2-ba48-69cae2bd56d9",
   "metadata": {},
   "source": [
    "### Display NaN as blank"
   ]
  },
  {
   "cell_type": "code",
   "execution_count": 184,
   "id": "7e2d403f-9d9a-4238-a1e1-a5a681d27875",
   "metadata": {},
   "outputs": [
    {
     "data": {
      "text/html": [
       "<div>\n",
       "<style scoped>\n",
       "    .dataframe tbody tr th:only-of-type {\n",
       "        vertical-align: middle;\n",
       "    }\n",
       "\n",
       "    .dataframe tbody tr th {\n",
       "        vertical-align: top;\n",
       "    }\n",
       "\n",
       "    .dataframe thead th {\n",
       "        text-align: right;\n",
       "    }\n",
       "</style>\n",
       "<table border=\"1\" class=\"dataframe\">\n",
       "  <thead>\n",
       "    <tr style=\"text-align: right;\">\n",
       "      <th>Pardavėjas</th>\n",
       "      <th>Chaichai</th>\n",
       "      <th>Delona</th>\n",
       "      <th>Prieskonių namai</th>\n",
       "      <th>Sauda</th>\n",
       "      <th>Spaisvilė</th>\n",
       "    </tr>\n",
       "    <tr>\n",
       "      <th>Produktas</th>\n",
       "      <th></th>\n",
       "      <th></th>\n",
       "      <th></th>\n",
       "      <th></th>\n",
       "      <th></th>\n",
       "    </tr>\n",
       "  </thead>\n",
       "  <tbody>\n",
       "    <tr>\n",
       "      <th>Aitriosios čili paprikos (maltos)</th>\n",
       "      <td></td>\n",
       "      <td>9.00</td>\n",
       "      <td></td>\n",
       "      <td>12.00</td>\n",
       "      <td>8.50</td>\n",
       "    </tr>\n",
       "    <tr>\n",
       "      <th>Aitriosios čili paprikos (smulkintos)</th>\n",
       "      <td></td>\n",
       "      <td>16.25</td>\n",
       "      <td></td>\n",
       "      <td></td>\n",
       "      <td>10.00</td>\n",
       "    </tr>\n",
       "    <tr>\n",
       "      <th>Dūmų skonio aitriosios čili paprikos</th>\n",
       "      <td></td>\n",
       "      <td>20.00</td>\n",
       "      <td></td>\n",
       "      <td></td>\n",
       "      <td></td>\n",
       "    </tr>\n",
       "    <tr>\n",
       "      <th>Raudonos saldžios paprikos (maltos)</th>\n",
       "      <td>50.00</td>\n",
       "      <td></td>\n",
       "      <td></td>\n",
       "      <td>8.75</td>\n",
       "      <td>14.47</td>\n",
       "    </tr>\n",
       "    <tr>\n",
       "      <th>Raudonos saldžios paprikos (rūkytos)</th>\n",
       "      <td>50.00</td>\n",
       "      <td>15.00</td>\n",
       "      <td>40.00</td>\n",
       "      <td>19.83</td>\n",
       "      <td>41.50</td>\n",
       "    </tr>\n",
       "    <tr>\n",
       "      <th>Raudonos saldžios paprikos (smulkintos)</th>\n",
       "      <td></td>\n",
       "      <td>16.00</td>\n",
       "      <td></td>\n",
       "      <td>9.72</td>\n",
       "      <td></td>\n",
       "    </tr>\n",
       "  </tbody>\n",
       "</table>\n",
       "</div>"
      ],
      "text/plain": [
       "Pardavėjas                              Chaichai Delona Prieskonių namai  \\\n",
       "Produktas                                                                  \n",
       "Aitriosios čili paprikos (maltos)                  9.00                    \n",
       "Aitriosios čili paprikos (smulkintos)             16.25                    \n",
       "Dūmų skonio aitriosios čili paprikos              20.00                    \n",
       "Raudonos saldžios paprikos (maltos)        50.00                           \n",
       "Raudonos saldžios paprikos (rūkytos)       50.00  15.00            40.00   \n",
       "Raudonos saldžios paprikos (smulkintos)           16.00                    \n",
       "\n",
       "Pardavėjas                              Sauda Spaisvilė  \n",
       "Produktas                                                \n",
       "Aitriosios čili paprikos (maltos)       12.00      8.50  \n",
       "Aitriosios čili paprikos (smulkintos)             10.00  \n",
       "Dūmų skonio aitriosios čili paprikos                     \n",
       "Raudonos saldžios paprikos (maltos)      8.75     14.47  \n",
       "Raudonos saldžios paprikos (rūkytos)    19.83     41.50  \n",
       "Raudonos saldžios paprikos (smulkintos)  9.72            "
      ]
     },
     "metadata": {},
     "output_type": "display_data"
    }
   ],
   "source": [
    "prices = df_new.pivot_table(index='Produktas', columns='Pardavėjas', values='Kaina_kg', aggfunc='mean').fillna('')\n",
    "display(prices)"
   ]
  },
  {
   "cell_type": "markdown",
   "id": "541b9205-ccfb-489a-bba1-523feb054fc9",
   "metadata": {},
   "source": [
    "### Export to Excel"
   ]
  },
  {
   "cell_type": "code",
   "execution_count": 187,
   "id": "76d54c8b-54f6-4331-a001-056354838068",
   "metadata": {},
   "outputs": [],
   "source": [
    "prices.to_excel('paprika_prices.xlsx', encoding='utf-8')"
   ]
  },
  {
   "cell_type": "code",
   "execution_count": null,
   "id": "a2d2aaa6-740a-4bb4-b000-65daf358f430",
   "metadata": {},
   "outputs": [],
   "source": []
  }
 ],
 "metadata": {
  "kernelspec": {
   "display_name": "Python 3 (ipykernel)",
   "language": "python",
   "name": "python3"
  },
  "language_info": {
   "codemirror_mode": {
    "name": "ipython",
    "version": 3
   },
   "file_extension": ".py",
   "mimetype": "text/x-python",
   "name": "python",
   "nbconvert_exporter": "python",
   "pygments_lexer": "ipython3",
   "version": "3.9.13"
  }
 },
 "nbformat": 4,
 "nbformat_minor": 5
}
